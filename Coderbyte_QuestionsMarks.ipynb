{
  "nbformat": 4,
  "nbformat_minor": 0,
  "metadata": {
    "colab": {
      "name": "Coderbyte_QuestionsMarks.ipynb",
      "provenance": [],
      "collapsed_sections": [],
      "authorship_tag": "ABX9TyO3a7mpqvgWzcTt+6+Wskqw",
      "include_colab_link": true
    },
    "kernelspec": {
      "name": "python3",
      "display_name": "Python 3"
    },
    "language_info": {
      "name": "python"
    }
  },
  "cells": [
    {
      "cell_type": "markdown",
      "metadata": {
        "id": "view-in-github",
        "colab_type": "text"
      },
      "source": [
        "<a href=\"https://colab.research.google.com/github/YahiaML/My_CoderByte_Solutions/blob/main/Coderbyte_QuestionsMarks.ipynb\" target=\"_parent\"><img src=\"https://colab.research.google.com/assets/colab-badge.svg\" alt=\"Open In Colab\"/></a>"
      ]
    },
    {
      "cell_type": "markdown",
      "source": [
        "**Problem Description**\n",
        "\n",
        "Have the function QuestionsMarks(str) take the str string parameter, which will contain single digit numbers, letters, and question marks, and check if there are exactly 3 question marks between every pair of two numbers that add up to 10. If so, then your program should return the string true, otherwise it should return the string false. If there aren't any two numbers that add up to 10 in the string, then your program should return false as well.\n",
        "\n",
        "For example: if str is \"arrb6???4xxbl5???eee5\" then your program should return true because there are exactly 3 question marks between 6 and 4, and 3 question marks between 5 and 5 at the end of the string."
      ],
      "metadata": {
        "id": "dc_cfYswdnWi"
      }
    },
    {
      "cell_type": "markdown",
      "source": [
        "**Solution**"
      ],
      "metadata": {
        "id": "0sn5XGZgnoiO"
      }
    },
    {
      "cell_type": "code",
      "source": [
        "def QuestionsMarks(strParam):\n",
        "  str_list,prev_num, after_num, marks = list(strParam),\"0\",\"0\", \"\"\n",
        "\n",
        "  for charecter in str_list:\n",
        "    if charecter.isnumeric() and prev_num == \"0\":\n",
        "      prev_num = int(charecter)\n",
        "      print(\"If 1\", charecter)\n",
        "\n",
        "    elif charecter ==\"?\" and marks != \"???\" and prev_num != \"0\":\n",
        "      marks += \"?\"\n",
        "\n",
        "      print(\"If 2\", charecter)\n",
        "\n",
        "    elif charecter.isnumeric() and prev_num != \"0\" and marks == \"???\":\n",
        "      after_num = int(charecter)\n",
        "\n",
        "      print(\"If 3\", charecter)\n",
        "\n",
        "      if prev_num + after_num == 10:\n",
        "        ans = True\n",
        "        str_list = [\"x\"]\n",
        "        print(\"If 3 True\", charecter)\n",
        "      else:\n",
        "        ans = False\n",
        "        print(\"If 3 False\", charecter)\n",
        "\n",
        "    elif charecter.isnumeric() and prev_num != \"0\" and marks != \"???\":\n",
        "      ans = False\n",
        "\n",
        "  \n",
        "  # code goes here\n",
        "  return ans\n",
        "\n",
        "# keep this function call here \n",
        "print(QuestionsMarks(input()))"
      ],
      "metadata": {
        "id": "kfa55IV-nmM3",
        "colab": {
          "base_uri": "https://localhost:8080/"
        },
        "outputId": "32d0502e-5742-4524-c9e7-ab0afec57aaa"
      },
      "execution_count": 17,
      "outputs": [
        {
          "output_type": "stream",
          "name": "stdout",
          "text": [
            "\"acc?7??sss?3rr1??????5\"\n",
            "If 1 7\n",
            "If 2 ?\n",
            "If 2 ?\n",
            "If 2 ?\n",
            "If 3 3\n",
            "If 3 True 3\n",
            "If 3 1\n",
            "If 3 False 1\n",
            "If 3 5\n",
            "If 3 False 5\n",
            "False\n"
          ]
        }
      ]
    },
    {
      "cell_type": "code",
      "source": [
        "x = \"5\"\n",
        "x.isnumeric()"
      ],
      "metadata": {
        "colab": {
          "base_uri": "https://localhost:8080/"
        },
        "id": "i-CATmbrqK_l",
        "outputId": "80422ab8-c15a-4347-8f49-5f70fc6a2474"
      },
      "execution_count": 7,
      "outputs": [
        {
          "output_type": "execute_result",
          "data": {
            "text/plain": [
              "True"
            ]
          },
          "metadata": {},
          "execution_count": 7
        }
      ]
    },
    {
      "cell_type": "code",
      "source": [
        ""
      ],
      "metadata": {
        "id": "fQuTqFq-q_QZ"
      },
      "execution_count": null,
      "outputs": []
    }
  ]
}