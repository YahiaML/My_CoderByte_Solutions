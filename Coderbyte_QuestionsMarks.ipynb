{
  "nbformat": 4,
  "nbformat_minor": 0,
  "metadata": {
    "colab": {
      "name": "Coderbyte_QuestionsMarks.ipynb",
      "provenance": [],
      "collapsed_sections": [],
      "authorship_tag": "ABX9TyPWZ4c6AObDKTOasiCUNeS8"
    },
    "kernelspec": {
      "name": "python3",
      "display_name": "Python 3"
    },
    "language_info": {
      "name": "python"
    }
  },
  "cells": [
    {
      "cell_type": "markdown",
      "source": [
        "**Problem Description**\n",
        "\n",
        "Have the function QuestionsMarks(str) take the str string parameter, which will contain single digit numbers, letters, and question marks, and check if there are exactly 3 question marks between every pair of two numbers that add up to 10. If so, then your program should return the string true, otherwise it should return the string false. If there aren't any two numbers that add up to 10 in the string, then your program should return false as well.\n",
        "\n",
        "For example: if str is \"arrb6???4xxbl5???eee5\" then your program should return true because there are exactly 3 question marks between 6 and 4, and 3 question marks between 5 and 5 at the end of the string."
      ],
      "metadata": {
        "id": "dc_cfYswdnWi"
      }
    },
    {
      "cell_type": "markdown",
      "source": [
        "**Solution.3**"
      ],
      "metadata": {
        "id": "TksxnN498pq3"
      }
    },
    {
      "cell_type": "code",
      "source": [
        "def QuestionsMarks(strParam):\n",
        "  str_list,prev_num, after_num, marks, ans, false_loop = list(strParam),\"0\",\"0\", \"\", False, False\n",
        "\n",
        "  for charecter in str_list:\n",
        "\n",
        "    if charecter.isnumeric() and prev_num == \"0\":\n",
        "      prev_num = int(charecter)\n",
        "    \n",
        "    elif charecter ==\"?\" and prev_num != \"0\":\n",
        "      marks += \"?\"\n",
        "\n",
        "    elif charecter.isnumeric() and prev_num != \"0\" and after_num == \"0\" and false_loop != True:\n",
        "      after_num = int(charecter)\n",
        "      \n",
        "      if prev_num + after_num == 10 and marks == \"???\":\n",
        "        ans = True\n",
        "              \n",
        "      elif prev_num + after_num != 10 and marks != \"???\":\n",
        "        Has_no_effect = \"yes\"\n",
        "                \n",
        "      else:  \n",
        "        ans = False      \n",
        "        false_loop = True\n",
        "\n",
        "      prev_num, after_num, marks = \"0\",\"0\", \"\"\n",
        "    \n",
        "    if charecter == str_list[len(str_list)-1] and after_num == \"0\" and prev_num != \"0\":\n",
        "      ans = False \n",
        "      \n",
        "  # code goes here\n",
        "  return ans\n",
        "\n",
        "# keep this function call here \n",
        "print(QuestionsMarks(input()))"
      ],
      "metadata": {
        "colab": {
          "base_uri": "https://localhost:8080/"
        },
        "outputId": "0c822371-37ac-4f3b-c6cf-95b61e22d97c",
        "id": "BqMgOjI98pq6"
      },
      "execution_count": null,
      "outputs": [
        {
          "output_type": "stream",
          "name": "stdout",
          "text": [
            "acc?7??sss?3rr1??????5\n",
            "True\n"
          ]
        }
      ]
    },
    {
      "cell_type": "markdown",
      "source": [
        "**Test cases**\n",
        "\n",
        "arrb6???4xxbl5???eee5        ======> True\n",
        "\n",
        "aa6?9                        ======> false\n",
        "\n",
        "acc?7??sss?3rr1??????5       ======> True\n",
        "\n",
        "aaaaaaarrrrr??????           ======> false\n",
        "\n",
        "9???1???9???1???9            ======> True\n",
        "\n",
        "9???1???9??1???9             ======> false\n",
        "\n",
        "4?5?4?aamm9                  ======> false\n",
        "\n",
        "5??aaaaaaaaaaaaaaaaaaa?5?5   ======> false\n",
        "\n",
        "5??aaaaaaaaaaaaaaaaaaa?5?a??5 =====> True\n",
        "\n",
        "mbbv???????????4??????ddsdsdcc9? ==> false"
      ],
      "metadata": {
        "id": "bg9avC9m9Ovv"
      }
    },
    {
      "cell_type": "markdown",
      "source": [
        "**Solution.2**"
      ],
      "metadata": {
        "id": "M4uZT-Kkx_gD"
      }
    },
    {
      "cell_type": "code",
      "source": [
        "def QuestionsMarks(strParam):\n",
        "  str_list,prev_num, after_num, marks, ans, false_loop = list(strParam),\"0\",\"0\", \"\", False, False\n",
        "\n",
        "  for charecter in str_list:\n",
        "\n",
        "    if charecter.isnumeric() and prev_num == \"0\":\n",
        "      prev_num = int(charecter)\n",
        "    \n",
        "    elif charecter ==\"?\" and prev_num != \"0\":\n",
        "      marks += \"?\"\n",
        "\n",
        "    elif charecter.isnumeric() and prev_num != \"0\" and after_num == \"0\" and false_loop != True:\n",
        "      after_num = int(charecter)\n",
        "      \n",
        "      if prev_num + after_num == 10 and marks == \"???\":\n",
        "        ans = True\n",
        "              \n",
        "      elif prev_num + after_num != 10 and marks != \"???\":\n",
        "        Has_no_effect = \"yes\"\n",
        "                \n",
        "      else:  \n",
        "        ans = False      \n",
        "        false_loop = True\n",
        "\n",
        "      prev_num, after_num, marks = \"0\",\"0\", \"\"\n",
        "      \n",
        "  # code goes here\n",
        "  return ans\n",
        "\n",
        "# keep this function call here \n",
        "print(QuestionsMarks(input()))"
      ],
      "metadata": {
        "colab": {
          "base_uri": "https://localhost:8080/"
        },
        "outputId": "0c822371-37ac-4f3b-c6cf-95b61e22d97c",
        "id": "_73yb4jPyCb6"
      },
      "execution_count": 45,
      "outputs": [
        {
          "output_type": "stream",
          "name": "stdout",
          "text": [
            "acc?7??sss?3rr1??????5\n",
            "True\n"
          ]
        }
      ]
    },
    {
      "cell_type": "markdown",
      "source": [
        "**Solution.1**"
      ],
      "metadata": {
        "id": "0sn5XGZgnoiO"
      }
    },
    {
      "cell_type": "code",
      "source": [
        "def QuestionsMarks(strParam):\n",
        "  str_list,prev_num, after_num, marks = list(strParam),\"0\",\"0\", \"\"\n",
        "\n",
        "  for charecter in str_list:\n",
        "    if charecter.isnumeric() and prev_num == \"0\":\n",
        "      prev_num = int(charecter)\n",
        "      \n",
        "    elif charecter ==\"?\" and marks != \"???\" and prev_num != \"0\":\n",
        "      marks += \"?\"\n",
        "      \n",
        "    elif charecter.isnumeric() and prev_num != \"0\" and marks == \"???\" and after_num == \"0\":\n",
        "      after_num = int(charecter)\n",
        "\n",
        "      if prev_num + after_num == 10:\n",
        "        ans = True\n",
        "        str_list = [\"x\"]\n",
        "       \n",
        "      else:\n",
        "        ans = False\n",
        "       \n",
        "    elif charecter.isnumeric() and prev_num != \"0\" and marks != \"???\":\n",
        "      ans = False\n",
        "\n",
        "    elif charecter ==\"?\" and marks == \"???\" and prev_num != \"0\":\n",
        "      ans = False\n",
        "    \n",
        "    else:\n",
        "      ans = False\n",
        "\n",
        "\n",
        "  \n",
        "  # code goes here\n",
        "  return ans\n",
        "\n",
        "# keep this function call here \n",
        "print(QuestionsMarks(input()))"
      ],
      "metadata": {
        "id": "kfa55IV-nmM3",
        "colab": {
          "base_uri": "https://localhost:8080/"
        },
        "outputId": "b3ff04e9-17ca-477f-c7cc-0b1005f8e024"
      },
      "execution_count": 24,
      "outputs": [
        {
          "output_type": "stream",
          "name": "stdout",
          "text": [
            "\"aa6?9\"\n",
            "False\n"
          ]
        }
      ]
    }
  ]
}