{
  "nbformat": 4,
  "nbformat_minor": 0,
  "metadata": {
    "colab": {
      "name": "Coderbyte_QuestionsMarks.ipynb",
      "provenance": [],
      "collapsed_sections": [],
      "authorship_tag": "ABX9TyM/FMaW7k7Z68TAJUD8k0NL",
      "include_colab_link": true
    },
    "kernelspec": {
      "name": "python3",
      "display_name": "Python 3"
    },
    "language_info": {
      "name": "python"
    }
  },
  "cells": [
    {
      "cell_type": "markdown",
      "metadata": {
        "id": "view-in-github",
        "colab_type": "text"
      },
      "source": [
        "<a href=\"https://colab.research.google.com/github/YahiaML/My_CoderByte_Solutions/blob/main/Coderbyte_QuestionsMarks.ipynb\" target=\"_parent\"><img src=\"https://colab.research.google.com/assets/colab-badge.svg\" alt=\"Open In Colab\"/></a>"
      ]
    },
    {
      "cell_type": "markdown",
      "source": [
        "**Problem Description**\n",
        "\n",
        "Have the function QuestionsMarks(str) take the str string parameter, which will contain single digit numbers, letters, and question marks, and check if there are exactly 3 question marks between every pair of two numbers that add up to 10. If so, then your program should return the string true, otherwise it should return the string false. If there aren't any two numbers that add up to 10 in the string, then your program should return false as well.\n",
        "\n",
        "For example: if str is \"arrb6???4xxbl5???eee5\" then your program should return true because there are exactly 3 question marks between 6 and 4, and 3 question marks between 5 and 5 at the end of the string."
      ],
      "metadata": {
        "id": "dc_cfYswdnWi"
      }
    },
    {
      "cell_type": "markdown",
      "source": [
        "**Solution**"
      ],
      "metadata": {
        "id": "WIy_BXZVEdfT"
      }
    },
    {
      "cell_type": "code",
      "source": [
        "def QuestionsMarks(strParam):\n",
        "\n",
        "  strParam, finish, first_num, marks, ans =list(strParam), False, \"0\", \"\", False\n",
        "\n",
        "  for charecter in strParam:\n",
        "\n",
        "    if charecter.isnumeric() and finish == False:\n",
        "      if first_num == \"0\":\n",
        "        first_num = int(charecter)\n",
        "      \n",
        "      elif first_num != \"0\":\n",
        "        if marks == \"???\" and first_num + int(charecter) == 10 :\n",
        "          ans = True\n",
        "          marks, first_num = \"\", int(charecter)\n",
        "\n",
        "        elif marks == \"\":\n",
        "          first_num = int(charecter)\n",
        "        \n",
        "        elif marks > \"???\" and first_num + int(charecter) != 10:\n",
        "          Has_no_effect = \"True\"\n",
        "          first_num = int(charecter)\n",
        "\n",
        "        else:\n",
        "          ans = False\n",
        "          Finish = True\n",
        "\n",
        "    if charecter ==\"?\" and first_num !=\"0\":\n",
        "      marks += \"?\"\n",
        "\n",
        "\n",
        "        \n",
        "  # code goes here\n",
        "  return ans\n",
        "\n",
        "# keep this function call here \n",
        "print(QuestionsMarks(input()))"
      ],
      "metadata": {
        "id": "aFRt4LVwEaG9"
      },
      "execution_count": null,
      "outputs": []
    },
    {
      "cell_type": "markdown",
      "source": [
        "**Solution.V1**\n",
        "\n",
        "got 9/10"
      ],
      "metadata": {
        "id": "QFFUHVpJ4N47"
      }
    },
    {
      "cell_type": "code",
      "source": [
        "def QuestionsMarks(strParam):\n",
        "  str_list,prev_num, after_num, marks, ans, false_loop = list(strParam),\"0\",\"0\", \"\", False, False\n",
        "\n",
        "  for charecter in str_list:\n",
        "\n",
        "    if charecter.isnumeric() and prev_num == \"0\":\n",
        "      prev_num = int(charecter)\n",
        "    \n",
        "    elif charecter ==\"?\" and prev_num != \"0\":\n",
        "      marks += \"?\"\n",
        "\n",
        "    elif charecter.isnumeric() and prev_num != \"0\" and after_num == \"0\" and false_loop != True:\n",
        "\n",
        "      after_num = int(charecter)\n",
        "\n",
        "      if marks == \"\":\n",
        "        prev_num, after_num, marks = int(charecter),\"0\", \"\"\n",
        "        \n",
        "      else:\n",
        "\n",
        "      \n",
        "        if prev_num + after_num == 10 and marks == \"???\":\n",
        "          ans = True\n",
        "              \n",
        "        elif prev_num + after_num != 10 and marks != \"???\":\n",
        "          Has_no_effect = \"yes\"\n",
        "\n",
        "        elif prev_num + after_num == 10 and marks != \"???\":\n",
        "          ans = False      \n",
        "          false_loop = True\n",
        "                \n",
        "        else:  \n",
        "          ans = False      \n",
        "          false_loop = True\n",
        "\n",
        "        prev_num, after_num, marks = \"0\",\"0\", \"\"\n",
        "      \n",
        "  # code goes here\n",
        "  return ans\n",
        "\n",
        "# keep this function call here \n",
        "\n",
        "\n",
        "# incorrect: 5??aaaaaaaaaaaaaaaaaaa?5?5\n",
        "\n",
        "test_cases = [\"arrb6???4xxbl5???eee5\", \"aa6?9\" , \"acc?7??sss?3rr1??????5\", \"aaaaaaarrrrr??????\",\"9???1???9???1???9\", \"9???1???9??1???9\",\"4?5?4?aamm9\",\n",
        " \"5??aaaaaaaaaaaaaaaaaaa?5?5\",\"5??aaaaaaaaaaaaaaaaaaa?5?a??5\",\"mbbv???????????4??????ddsdsdcc9?\"]\n",
        "\n",
        "for case in test_cases:\n",
        "   print(QuestionsMarks(case))\n",
        "   \n"
      ],
      "metadata": {
        "id": "svMAMWUW4NOp"
      },
      "execution_count": null,
      "outputs": []
    }
  ]
}