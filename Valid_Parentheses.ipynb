{
  "nbformat": 4,
  "nbformat_minor": 0,
  "metadata": {
    "colab": {
      "name": "Valid Parentheses.ipynb",
      "provenance": [],
      "collapsed_sections": [],
      "authorship_tag": "ABX9TyMt+311vScYHuPY023aVcE1",
      "include_colab_link": true
    },
    "kernelspec": {
      "name": "python3",
      "display_name": "Python 3"
    },
    "language_info": {
      "name": "python"
    }
  },
  "cells": [
    {
      "cell_type": "markdown",
      "metadata": {
        "id": "view-in-github",
        "colab_type": "text"
      },
      "source": [
        "<a href=\"https://colab.research.google.com/github/YahiaML/My_CoderByte_Solutions/blob/main/Valid_Parentheses.ipynb\" target=\"_parent\"><img src=\"https://colab.research.google.com/assets/colab-badge.svg\" alt=\"Open In Colab\"/></a>"
      ]
    },
    {
      "cell_type": "markdown",
      "source": [
        "**Problem Description**\n",
        "\n",
        "Given a string s containing just the characters '(' , ')' , '{' , '}' , '['  and  ']',  determine if the input string is valid.\n",
        "\n",
        "An input string is valid if:\n",
        "\n",
        "1. Open brackets must be closed by the same type of brackets.\n",
        "2. Open brackets must be closed in the correct order.\n",
        " \n",
        "\n",
        "**Example 1:**\n",
        "```\n",
        "Input: s = \"()\"\n",
        "\n",
        "Output: true\n",
        "```\n",
        "\n",
        "**Example 2:**\n",
        "```\n",
        "Input: s = \"()[]{}\"\n",
        "\n",
        "Output: true\n",
        "```\n",
        "Example 3:\n",
        "```\n",
        "Input: s = \"(]\"\n",
        "Output: false\n",
        " ```\n",
        "\n",
        "Constraints:\n",
        "\n",
        "1 <= s.length <= 104\n",
        "\n",
        "s consists of parentheses only '()[]{}'."
      ],
      "metadata": {
        "id": "dc_cfYswdnWi"
      }
    },
    {
      "cell_type": "markdown",
      "source": [
        "**Solution.1**\n"
      ],
      "metadata": {
        "id": "no9SlzTIZVmx"
      }
    },
    {
      "cell_type": "code",
      "source": [
        "def isValid(s):\n",
        "    \n",
        "    opened, continue_ = [], True\n",
        "    \n",
        "    for paren in s:\n",
        "        if paren in ['(', '{', '['] and continue_ == True:\n",
        "            opened.append(paren)\n",
        "            \n",
        "        elif paren == ')':          \n",
        "            if '(' in opened:\n",
        "                opened.remove('(')\n",
        "            else:\n",
        "                continue_ = False\n",
        "\n",
        "        elif paren == '}':                    \n",
        "            if '{' in opened:              \n",
        "                opened.remove('{')\n",
        "            else:\n",
        "                continue_ = False\n",
        "\n",
        "        elif paren == ']':          \n",
        "            if '[' in opened:\n",
        "                opened.remove('[')\n",
        "            else:\n",
        "                continue_ = False\n",
        "    return \"true\" if len(opened) == 0 else \"false\"\n",
        "      \n",
        "\n",
        "\n",
        "\n",
        "    \n",
        "isValid(\"(){}[]{{}}\")  #insert your list here"
      ],
      "metadata": {
        "id": "w7XtyoGixhRy",
        "colab": {
          "base_uri": "https://localhost:8080/",
          "height": 35
        },
        "outputId": "1ce18de5-76cd-4356-ddf6-1ce81ca88708"
      },
      "execution_count": 1,
      "outputs": [
        {
          "output_type": "execute_result",
          "data": {
            "text/plain": [
              "'true'"
            ],
            "application/vnd.google.colaboratory.intrinsic+json": {
              "type": "string"
            }
          },
          "metadata": {},
          "execution_count": 1
        }
      ]
    },
    {
      "cell_type": "markdown",
      "source": [
        "**Solution.2**\n"
      ],
      "metadata": {
        "id": "DDsCeNs3PtnC"
      }
    },
    {
      "cell_type": "code",
      "source": [
        "def isValid(s):\n",
        "    \n",
        "    opened, continue_ = [], True\n",
        "    \n",
        "    for paren in s:\n",
        "        if paren in ['(', '{', '['] and continue_ == True:\n",
        "            opened.append(paren)\n",
        "            \n",
        "        elif paren == ')' and '(' in opened:          \n",
        "            opened.remove('(')\n",
        "\n",
        "        elif paren == '}'and '{' in opened:                    \n",
        "            opened.remove('{')\n",
        "           \n",
        "        elif paren == ']'and '[' in opened:          \n",
        "            opened.remove('[')\n",
        "\n",
        "        else:\n",
        "            continue_ = False\n",
        "\n",
        "    return \"true\" if len(opened) == 0 else \"false\"\n",
        "      \n",
        "\n",
        "\n",
        "\n",
        "    \n",
        "isValid(\"(){}[]{{}}[\")  #insert your list here"
      ],
      "metadata": {
        "colab": {
          "base_uri": "https://localhost:8080/",
          "height": 35
        },
        "id": "JSwVFGgeOwlv",
        "outputId": "9c4d3481-2528-4512-8a6a-56f56a42391d"
      },
      "execution_count": 3,
      "outputs": [
        {
          "output_type": "execute_result",
          "data": {
            "text/plain": [
              "'false'"
            ],
            "application/vnd.google.colaboratory.intrinsic+json": {
              "type": "string"
            }
          },
          "metadata": {},
          "execution_count": 3
        }
      ]
    }
  ]
}