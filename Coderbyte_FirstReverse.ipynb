{
  "nbformat": 4,
  "nbformat_minor": 0,
  "metadata": {
    "colab": {
      "name": "Coderbyte_FirstReverse.ipynb",
      "provenance": [],
      "collapsed_sections": [],
      "authorship_tag": "ABX9TyO1aoi29LruF5f2UffBxGhG"
    },
    "kernelspec": {
      "name": "python3",
      "display_name": "Python 3"
    },
    "language_info": {
      "name": "python"
    }
  },
  "cells": [
    {
      "cell_type": "markdown",
      "source": [
        "**Problem Description**\n",
        "\n",
        "Have the function FirstReverse(str) take the str parameter being passed and return the string in reversed order. For example: if the input string is \"Hello World and Coders\" then your program should return the string sredoC dna dlroW olleH."
      ],
      "metadata": {
        "id": "dc_cfYswdnWi"
      }
    },
    {
      "cell_type": "markdown",
      "source": [
        "**Solution**\n"
      ],
      "metadata": {
        "id": "WIy_BXZVEdfT"
      }
    },
    {
      "cell_type": "code",
      "source": [
        "def FirstReverse(strParam):\n",
        "\n",
        "  # code goes here\n",
        "  return strParam[::-1]\n",
        "\n",
        "# keep this function call here \n",
        "print(FirstReverse(input()))"
      ],
      "metadata": {
        "id": "aFRt4LVwEaG9"
      },
      "execution_count": null,
      "outputs": []
    }
  ]
}