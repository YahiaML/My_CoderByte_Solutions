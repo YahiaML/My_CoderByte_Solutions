{
  "nbformat": 4,
  "nbformat_minor": 0,
  "metadata": {
    "colab": {
      "name": "Coderbyte_BracketMatcher.ipynb",
      "provenance": [],
      "collapsed_sections": [],
      "authorship_tag": "ABX9TyNNL/Bdf1NrcxMkwfad6bBC",
      "include_colab_link": true
    },
    "kernelspec": {
      "name": "python3",
      "display_name": "Python 3"
    },
    "language_info": {
      "name": "python"
    }
  },
  "cells": [
    {
      "cell_type": "markdown",
      "metadata": {
        "id": "view-in-github",
        "colab_type": "text"
      },
      "source": [
        "<a href=\"https://colab.research.google.com/github/YahiaML/My_CoderByte_Solutions/blob/main/Coderbyte_BracketMatcher.ipynb\" target=\"_parent\"><img src=\"https://colab.research.google.com/assets/colab-badge.svg\" alt=\"Open In Colab\"/></a>"
      ]
    },
    {
      "cell_type": "markdown",
      "source": [
        "**Problem Description**\n",
        "\n",
        "Have the function BracketMatcher(str) take the str parameter being passed and return 1 if the brackets are correctly matched and each one is accounted for. Otherwise return 0. For example: if str is \"(hello (world))\", then the output should be 1, but if str is \"((hello (world))\" the the output should be 0 because the brackets do not correctly match up. Only \"(\" and \")\" will be used as brackets. If str contains no brackets return 1."
      ],
      "metadata": {
        "id": "dc_cfYswdnWi"
      }
    },
    {
      "cell_type": "markdown",
      "source": [
        "**Solution**\n"
      ],
      "metadata": {
        "id": "WIy_BXZVEdfT"
      }
    },
    {
      "cell_type": "code",
      "source": [
        "def BracketMatcher(strParam):\n",
        "  # code goes here  \n",
        "  right, left, error = 0, 0, False\n",
        "     \n",
        "  for i in strParam:\n",
        "    if i == \"(\":\n",
        "      right +=1\n",
        "    elif i == \")\":\n",
        "      left += 1\n",
        "      if left > right:\n",
        "        error = True\n",
        "  \n",
        "  if right == left and error == False:\n",
        "    return 1\n",
        "  else:\n",
        "    return 0\n",
        "\n",
        "# keep this function call here \n",
        "print(BracketMatcher(input()))"
      ],
      "metadata": {
        "colab": {
          "base_uri": "https://localhost:8080/"
        },
        "id": "9gGSqXqgYUjD",
        "outputId": "4b302528-85af-4f40-ba35-08d51ea36875"
      },
      "execution_count": 29,
      "outputs": [
        {
          "output_type": "stream",
          "name": "stdout",
          "text": [
            ")(()\n",
            "0\n"
          ]
        }
      ]
    },
    {
      "cell_type": "code",
      "source": [
        "def BracketMatcher(strParam):\n",
        "  # code goes here  \n",
        "  ans, right, left, closing, end, count = 1, 0, 0, False, False, 0\n",
        "  for i in strParam:\n",
        "    count +=1\n",
        "    if (i in [\"(\", \")\"] and end == False) or (count == len(strParam)):\n",
        "\n",
        "      if i == \"(\" and closing == False and count == len(strParam):\n",
        "        right += 1\n",
        "\n",
        "      elif i == \")\" and count != len(strParam):\n",
        "        closing = True\n",
        "        left +=1\n",
        "\n",
        "      elif i == \")\" and count == len(strParam):\n",
        "\n",
        "        if  right == left+1:\n",
        "          right, left, closing = 0, 0, False\n",
        "\n",
        "        else:          \n",
        "          ans, end = 0, True\n",
        "\n",
        "      elif (i == \"(\" and closing == True) or (count == len(strParam)):\n",
        "        \n",
        "        if  right == left:\n",
        "          right, left, closing = 0, 0, False\n",
        "\n",
        "        else:          \n",
        "          ans, end = 0, True\n",
        "\n",
        "        \n",
        "\n",
        "  return ans\n",
        "\n",
        "# keep this function call here \n",
        "print(BracketMatcher(input()))"
      ],
      "metadata": {
        "colab": {
          "base_uri": "https://localhost:8080/"
        },
        "id": "Hx2Klu73Qci6",
        "outputId": "1c3883c5-83d6-4704-920f-e2c10716bfae"
      },
      "execution_count": 27,
      "outputs": [
        {
          "output_type": "stream",
          "name": "stdout",
          "text": [
            "()55\n",
            "0\n"
          ]
        }
      ]
    },
    {
      "cell_type": "code",
      "source": [
        "if ( 1==1 and 2==3) or (3==3):\n",
        "  print(\"done\")"
      ],
      "metadata": {
        "colab": {
          "base_uri": "https://localhost:8080/"
        },
        "id": "O6LrhCaLVU0p",
        "outputId": "9d1d48ad-ac43-440c-c1c9-4d790662fde9"
      },
      "execution_count": 12,
      "outputs": [
        {
          "output_type": "stream",
          "name": "stdout",
          "text": [
            "done\n"
          ]
        }
      ]
    },
    {
      "cell_type": "code",
      "source": [
        "def BracketMatcher(strParam):\n",
        "  # code goes here\n",
        "  \n",
        "  count = 0\n",
        "  for i in strParam:\n",
        "    if i in [\"(\", \")\"]:\n",
        "      count +=1\n",
        "  \n",
        "  if count%2 == 0:\n",
        "    return 1\n",
        "  else:\n",
        "    return 0\n",
        "\n",
        "# keep this function call here \n",
        "print(BracketMatcher(input()))"
      ],
      "metadata": {
        "id": "aFRt4LVwEaG9"
      },
      "execution_count": null,
      "outputs": []
    },
    {
      "cell_type": "code",
      "source": [
        "def BracketMatcher(strParam):\n",
        "  # code goes here\n",
        "  \n",
        "  right = 0\n",
        "  left = 0\n",
        "  for i in strParam:\n",
        "    if i == \"(\":\n",
        "      right +=1\n",
        "    elif i == \")\":\n",
        "      left += 1\n",
        "  \n",
        "  if right == left:\n",
        "    return 1\n",
        "  else:\n",
        "    return 0\n",
        "\n",
        "# keep this function call here \n",
        "print(BracketMatcher(input()))"
      ],
      "metadata": {
        "id": "kFJa397GQToS"
      },
      "execution_count": null,
      "outputs": []
    }
  ]
}