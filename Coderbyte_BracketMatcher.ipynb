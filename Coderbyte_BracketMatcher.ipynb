{
  "nbformat": 4,
  "nbformat_minor": 0,
  "metadata": {
    "colab": {
      "name": "Coderbyte_BracketMatcher.ipynb",
      "provenance": [],
      "collapsed_sections": [],
      "authorship_tag": "ABX9TyM3ooxfUxqVlzJY5bVJOU2F"
    },
    "kernelspec": {
      "name": "python3",
      "display_name": "Python 3"
    },
    "language_info": {
      "name": "python"
    }
  },
  "cells": [
    {
      "cell_type": "markdown",
      "source": [
        "**Problem Description**\n",
        "\n",
        "Have the function BracketMatcher(str) take the str parameter being passed and return 1 if the brackets are correctly matched and each one is accounted for. Otherwise return 0. For example: if str is \"(hello (world))\", then the output should be 1, but if str is \"((hello (world))\" the the output should be 0 because the brackets do not correctly match up. Only \"(\" and \")\" will be used as brackets. If str contains no brackets return 1."
      ],
      "metadata": {
        "id": "dc_cfYswdnWi"
      }
    },
    {
      "cell_type": "markdown",
      "source": [
        "**Solution.V3**\n",
        "\n",
        "Got 10 out of 10 test cases\n"
      ],
      "metadata": {
        "id": "WIy_BXZVEdfT"
      }
    },
    {
      "cell_type": "code",
      "source": [
        "def BracketMatcher(strParam):\n",
        "  # code goes here  \n",
        "  right, left, error = 0, 0, False\n",
        "     \n",
        "  for i in strParam:\n",
        "    if i == \"(\":\n",
        "      right +=1\n",
        "    elif i == \")\":\n",
        "      left += 1\n",
        "      if left > right:\n",
        "        error = True\n",
        "  \n",
        "  if right == left and error == False:\n",
        "    return 1\n",
        "  else:\n",
        "    return 0\n",
        "\n",
        "# keep this function call here \n",
        "print(BracketMatcher(input()))"
      ],
      "metadata": {
        "id": "9gGSqXqgYUjD"
      },
      "execution_count": null,
      "outputs": []
    },
    {
      "cell_type": "markdown",
      "source": [
        "**Solution.V2**\n",
        "\n",
        "Got 9 out of 10 test cases\n"
      ],
      "metadata": {
        "id": "LVTbWkfHZVLC"
      }
    },
    {
      "cell_type": "code",
      "source": [
        "def BracketMatcher(strParam):\n",
        "  # code goes here\n",
        "  \n",
        "  count = 0\n",
        "  for i in strParam:\n",
        "    if i in [\"(\", \")\"]:\n",
        "      count +=1\n",
        "  \n",
        "  if count%2 == 0:\n",
        "    return 1\n",
        "  else:\n",
        "    return 0\n",
        "\n",
        "# keep this function call here \n",
        "print(BracketMatcher(input()))"
      ],
      "metadata": {
        "id": "aFRt4LVwEaG9"
      },
      "execution_count": null,
      "outputs": []
    },
    {
      "cell_type": "markdown",
      "source": [
        "**Solution.V1**\n",
        "\n",
        "Got 9 out of 10 test cases\n"
      ],
      "metadata": {
        "id": "no9SlzTIZVmx"
      }
    },
    {
      "cell_type": "code",
      "source": [
        "def BracketMatcher(strParam):\n",
        "  # code goes here\n",
        "  \n",
        "  right = 0\n",
        "  left = 0\n",
        "  for i in strParam:\n",
        "    if i == \"(\":\n",
        "      right +=1\n",
        "    elif i == \")\":\n",
        "      left += 1\n",
        "  \n",
        "  if right == left:\n",
        "    return 1\n",
        "  else:\n",
        "    return 0\n",
        "\n",
        "# keep this function call here \n",
        "print(BracketMatcher(input()))"
      ],
      "metadata": {
        "id": "kFJa397GQToS"
      },
      "execution_count": null,
      "outputs": []
    }
  ]
}