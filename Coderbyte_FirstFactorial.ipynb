{
  "nbformat": 4,
  "nbformat_minor": 0,
  "metadata": {
    "colab": {
      "name": "Coderbyte_FirstFactorial.ipynb",
      "provenance": [],
      "collapsed_sections": [],
      "authorship_tag": "ABX9TyP6Qdqp0T2Dz7TXo/YdTscS"
    },
    "kernelspec": {
      "name": "python3",
      "display_name": "Python 3"
    },
    "language_info": {
      "name": "python"
    }
  },
  "cells": [
    {
      "cell_type": "markdown",
      "source": [
        "**Problem Description**\n",
        "\n",
        "Have the function FirstFactorial(num) take the num parameter being passed and return the factorial of it. For example: if num = 4, then your program should return (4 * 3 * 2 * 1) = 24. For the test cases, the range will be between 1 and 18 and the input will always be an integer."
      ],
      "metadata": {
        "id": "dc_cfYswdnWi"
      }
    },
    {
      "cell_type": "markdown",
      "source": [
        "**Solution_1**"
      ],
      "metadata": {
        "id": "0sn5XGZgnoiO"
      }
    },
    {
      "cell_type": "code",
      "source": [
        "def FirstFactorial(num):\n",
        "  num = int(num)\n",
        "  ans= 1\n",
        "  while num != 0:\n",
        "        ans *= num\n",
        "        num -= 1\n",
        "\n",
        "  # code goes here\n",
        "  return ans\n",
        "    \n",
        "# keep this function call here  \n",
        "print(FirstFactorial(input()))"
      ],
      "metadata": {
        "id": "kfa55IV-nmM3"
      },
      "execution_count": null,
      "outputs": []
    },
    {
      "cell_type": "markdown",
      "source": [
        "**Solution_2**"
      ],
      "metadata": {
        "id": "aIk3T4Bvd1ba"
      }
    },
    {
      "cell_type": "code",
      "execution_count": null,
      "metadata": {
        "id": "6HhrXc4TdbX1"
      },
      "outputs": [],
      "source": [
        "def FirstFactorial(num):\n",
        "  ans =1\n",
        "  for i in range(1,int(num) + 1):\n",
        "    ans = ans*i   \n",
        " \n",
        "  # code goes here\n",
        "  return ans\n",
        "\n",
        "# keep this function call here \n",
        "print(FirstFactorial(int(input())))"
      ]
    }
  ]
}