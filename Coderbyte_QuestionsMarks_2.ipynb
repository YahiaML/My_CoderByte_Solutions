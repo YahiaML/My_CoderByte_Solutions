{
  "nbformat": 4,
  "nbformat_minor": 0,
  "metadata": {
    "colab": {
      "name": "Coderbyte_QuestionsMarks_2.ipynb",
      "provenance": [],
      "collapsed_sections": [],
      "authorship_tag": "ABX9TyP5rn3EWeZBLI5mzrfHcSsA",
      "include_colab_link": true
    },
    "kernelspec": {
      "name": "python3",
      "display_name": "Python 3"
    },
    "language_info": {
      "name": "python"
    }
  },
  "cells": [
    {
      "cell_type": "markdown",
      "metadata": {
        "id": "view-in-github",
        "colab_type": "text"
      },
      "source": [
        "<a href=\"https://colab.research.google.com/github/YahiaML/My_CoderByte_Solutions/blob/main/Coderbyte_QuestionsMarks_2.ipynb\" target=\"_parent\"><img src=\"https://colab.research.google.com/assets/colab-badge.svg\" alt=\"Open In Colab\"/></a>"
      ]
    },
    {
      "cell_type": "markdown",
      "source": [
        "**Problem Description**\n",
        "\n",
        "Have the function QuestionsMarks(str) take the str string parameter, which will contain single digit numbers, letters, and question marks, and check if there are exactly 3 question marks between every pair of two numbers that add up to 10. If so, then your program should return the string true, otherwise it should return the string false. If there aren't any two numbers that add up to 10 in the string, then your program should return false as well.\n",
        "\n",
        "For example: if str is \"arrb6???4xxbl5???eee5\" then your program should return true because there are exactly 3 question marks between 6 and 4, and 3 question marks between 5 and 5 at the end of the string."
      ],
      "metadata": {
        "id": "dc_cfYswdnWi"
      }
    },
    {
      "cell_type": "code",
      "source": [
        "def QuestionsMarks(strParam):\n",
        "  str_list,prev_num, after_num, marks, ans, false_loop, loop_num = list(strParam),\"0\",\"0\", \"\", False, False, 0\n",
        "\n",
        "  for charecter in str_list:    \n",
        "\n",
        "    if charecter.isnumeric() and prev_num == \"0\" and loop_num != len(str_list)-1:\n",
        "      prev_num = int(charecter)\n",
        "      \n",
        "    \n",
        "    elif charecter ==\"?\" and prev_num != \"0\":\n",
        "      marks += \"?\"\n",
        "\n",
        "      \n",
        "\n",
        "    elif charecter.isnumeric() and prev_num != \"0\" and after_num == \"0\" and false_loop != True:\n",
        "      after_num = int(charecter)\n",
        "\n",
        "      if marks == \"\":\n",
        "        prev_num, after_num, marks = int(charecter),\"0\", \"\"\n",
        "      else:\n",
        "\n",
        "      \n",
        "        if prev_num + after_num == 10 and marks == \"???\":\n",
        "          ans = True\n",
        "              \n",
        "        elif prev_num + after_num != 10 and marks != \"???\":\n",
        "          Has_no_effect = \"yes\"\n",
        "\n",
        "        elif prev_num + after_num == 10 and marks != \"???\":\n",
        "          ans = False      \n",
        "          false_loop = True\n",
        "                \n",
        "        else:  \n",
        "          ans = False      \n",
        "          false_loop = True\n",
        "\n",
        "        prev_num, after_num, marks = \"0\",\"0\", \"\"      \n",
        "\n",
        "    elif charecter.isnumeric() and prev_num == \"0\" and loop_num == len(str_list)-1:\n",
        "      ans = False\n",
        "    \n",
        "    loop_num += 1\n",
        "          \n",
        "  # code goes here\n",
        "  return ans\n",
        "\n",
        "# keep this function call here \n",
        "print(QuestionsMarks(input()))\n",
        "   \n"
      ],
      "metadata": {
        "colab": {
          "base_uri": "https://localhost:8080/"
        },
        "outputId": "234dfd12-779b-4bf0-c96c-e878f08377a6",
        "id": "MGcM09qZvuWh"
      },
      "execution_count": null,
      "outputs": [
        {
          "output_type": "stream",
          "name": "stdout",
          "text": [
            "5??aaaaaaaaaaaaaaaaaaa?5?5\n",
            "False\n"
          ]
        }
      ]
    },
    {
      "cell_type": "code",
      "source": [
        "def QuestionsMarks(strParam):\n",
        "  str_list,prev_num, after_num, marks, ans, false_loop, loop_num = list(strParam),\"0\",\"0\", \"\", False, False, 0\n",
        "\n",
        "  for charecter in str_list:    \n",
        "\n",
        "    if charecter.isnumeric() and prev_num == \"0\" and loop_num != len(str_list)-1:\n",
        "      prev_num = int(charecter)\n",
        "      \n",
        "    \n",
        "    elif charecter ==\"?\" and prev_num != \"0\":\n",
        "      marks += \"?\"\n",
        "\n",
        "      \n",
        "\n",
        "    elif charecter.isnumeric() and prev_num != \"0\" and after_num == \"0\" and false_loop != True:\n",
        "      after_num = int(charecter)\n",
        "            \n",
        "      if prev_num + after_num == 10 and marks == \"???\":\n",
        "        ans = True\n",
        "                      \n",
        "      elif prev_num + after_num != 10 and marks != \"???\":\n",
        "        Has_no_effect = \"yes\"\n",
        "        \n",
        "      elif prev_num + after_num == 10 and marks != \"???\":\n",
        "        ans = False      \n",
        "        false_loop = True\n",
        "                        \n",
        "      else:  \n",
        "        ans = False      \n",
        "        false_loop = True\n",
        "        \n",
        "      prev_num, after_num, marks = \"0\",\"0\", \"\"      \n",
        "\n",
        "    elif charecter.isnumeric() and prev_num == \"0\" and loop_num == len(str_list)-1:\n",
        "      ans = False\n",
        "    \n",
        "    loop_num += 1\n",
        "          \n",
        "  # code goes here\n",
        "  return ans\n",
        "\n",
        "# keep this function call here \n",
        "print(QuestionsMarks(input()))\n",
        "   \n"
      ],
      "metadata": {
        "colab": {
          "base_uri": "https://localhost:8080/"
        },
        "outputId": "234dfd12-779b-4bf0-c96c-e878f08377a6",
        "id": "Q7YVdCNXknbG"
      },
      "execution_count": 97,
      "outputs": [
        {
          "output_type": "stream",
          "name": "stdout",
          "text": [
            "5??aaaaaaaaaaaaaaaaaaa?5?5\n",
            "False\n"
          ]
        }
      ]
    },
    {
      "cell_type": "code",
      "source": [
        "len(\"5??aaaaaaaaaaaaaaaaaaa?5?5\")\n"
      ],
      "metadata": {
        "colab": {
          "base_uri": "https://localhost:8080/"
        },
        "id": "C_BS5TFKoKK4",
        "outputId": "a5859e5e-6511-4ba6-8866-09f7fc01a60a"
      },
      "execution_count": 94,
      "outputs": [
        {
          "output_type": "execute_result",
          "data": {
            "text/plain": [
              "26"
            ]
          },
          "metadata": {},
          "execution_count": 94
        }
      ]
    },
    {
      "cell_type": "markdown",
      "source": [
        "**Solution.6** **best**"
      ],
      "metadata": {
        "id": "c8TsFLwCwo6i"
      }
    },
    {
      "cell_type": "code",
      "source": [
        "def QuestionsMarks(strParam):\n",
        "  str_list,prev_num, after_num, marks, ans, false_loop = list(strParam),\"0\",\"0\", \"\", False, False\n",
        "\n",
        "  for charecter in str_list:\n",
        "\n",
        "    if charecter.isnumeric() and prev_num == \"0\":\n",
        "      prev_num = int(charecter)\n",
        "    \n",
        "    elif charecter ==\"?\" and prev_num != \"0\":\n",
        "      marks += \"?\"\n",
        "\n",
        "    elif charecter.isnumeric() and prev_num != \"0\" and after_num == \"0\" and false_loop != True:\n",
        "\n",
        "      after_num = int(charecter)\n",
        "\n",
        "      if marks == \"\":\n",
        "        prev_num, after_num, marks = int(charecter),\"0\", \"\"\n",
        "        \n",
        "      else:\n",
        "\n",
        "      \n",
        "        if prev_num + after_num == 10 and marks == \"???\":\n",
        "          ans = True\n",
        "              \n",
        "        elif prev_num + after_num != 10 and marks != \"???\":\n",
        "          Has_no_effect = \"yes\"\n",
        "\n",
        "        elif prev_num + after_num == 10 and marks != \"???\":\n",
        "          ans = False      \n",
        "          false_loop = True\n",
        "                \n",
        "        else:  \n",
        "          ans = False      \n",
        "          false_loop = True\n",
        "\n",
        "        prev_num, after_num, marks = \"0\",\"0\", \"\"\n",
        "      \n",
        "  # code goes here\n",
        "  return ans\n",
        "\n",
        "# keep this function call here \n",
        "\n",
        "\n",
        "# incorrect: 5??aaaaaaaaaaaaaaaaaaa?5?5\n",
        "\n",
        "test_cases = [\"arrb6???4xxbl5???eee5\", \"aa6?9\" , \"acc?7??sss?3rr1??????5\", \"aaaaaaarrrrr??????\",\"9???1???9???1???9\", \"9???1???9??1???9\",\"4?5?4?aamm9\",\n",
        " \"5??aaaaaaaaaaaaaaaaaaa?5?5\",\"5??aaaaaaaaaaaaaaaaaaa?5?a??5\",\"mbbv???????????4??????ddsdsdcc9?\"]\n",
        "\n",
        "for case in test_cases:\n",
        "   print(QuestionsMarks(case))\n",
        "   \n"
      ],
      "metadata": {
        "colab": {
          "base_uri": "https://localhost:8080/"
        },
        "id": "aNC12BAyir1L",
        "outputId": "ad736029-5e40-4920-95a9-820afdb2f4d6"
      },
      "execution_count": 104,
      "outputs": [
        {
          "output_type": "stream",
          "name": "stdout",
          "text": [
            "True\n",
            "False\n",
            "True\n",
            "False\n",
            "True\n",
            "False\n",
            "False\n",
            "True\n",
            "True\n",
            "False\n"
          ]
        }
      ]
    },
    {
      "cell_type": "markdown",
      "source": [
        "True False True False False False False False False False\n",
        "\n",
        "True False True False True False False False True False"
      ],
      "metadata": {
        "id": "1rnmVK8GtjPA"
      }
    },
    {
      "cell_type": "markdown",
      "source": [
        "**Solution.5**"
      ],
      "metadata": {
        "id": "wdB8UkQBdYGd"
      }
    },
    {
      "cell_type": "code",
      "source": [
        "def QuestionsMarks(strParam):\n",
        "  str_list,prev_num, after_num, marks, ans, false_loop = list(strParam),\"0\",\"0\", \"\", False, False\n",
        "\n",
        "  for charecter in str_list:\n",
        "\n",
        "    if charecter.isnumeric() and prev_num == \"0\":\n",
        "      prev_num = int(charecter)\n",
        "    \n",
        "    elif charecter ==\"?\" and prev_num != \"0\":\n",
        "      marks += \"?\"\n",
        "\n",
        "    elif charecter.isnumeric() and prev_num != \"0\" and after_num == \"0\" and false_loop != True:\n",
        "      after_num = int(charecter)\n",
        "      \n",
        "      if prev_num + after_num == 10 and marks == \"???\":\n",
        "        ans = True\n",
        "              \n",
        "      elif prev_num + after_num != 10 and marks != \"???\":\n",
        "        Has_no_effect = \"yes\"\n",
        "\n",
        "      elif prev_num + after_num == 10 and marks != \"???\":\n",
        "        ans = False      \n",
        "        false_loop = True\n",
        "                \n",
        "      else:  \n",
        "        ans = False      \n",
        "        false_loop = True\n",
        "\n",
        "      prev_num, after_num, marks = \"0\",\"0\", \"\"\n",
        "      \n",
        "  # code goes here\n",
        "  return ans\n",
        "\n",
        "# keep this function call here \n",
        "print(QuestionsMarks(input()))\n",
        "\n",
        "# incorrect: 5??aaaaaaaaaaaaaaaaaaa?5?5"
      ],
      "metadata": {
        "colab": {
          "base_uri": "https://localhost:8080/"
        },
        "id": "2b_uhsQ3dc7s",
        "outputId": "5306ac19-bd03-4c23-fd11-5989da5c0b50"
      },
      "execution_count": 83,
      "outputs": [
        {
          "output_type": "stream",
          "name": "stdout",
          "text": [
            "4?5?4?aamm9\n",
            "False\n"
          ]
        }
      ]
    },
    {
      "cell_type": "markdown",
      "source": [
        "**Test cases**\n",
        "True False True False True False False False True False\n",
        "\n",
        "\n",
        "arrb6???4xxbl5???eee5        ======> True\n",
        "\n",
        "aa6?9                        ======> false\n",
        "\n",
        "acc?7??sss?3rr1??????5       ======> True\n",
        "\n",
        "aaaaaaarrrrr??????           ======> false\n",
        "\n",
        "9???1???9???1???9            ======> True\n",
        "\n",
        "9???1???9??1???9             ======> false\n",
        "\n",
        "4?5?4?aamm9                  ======> false\n",
        "\n",
        "5??aaaaaaaaaaaaaaaaaaa?5?5   ======> false\n",
        "\n",
        "5??aaaaaaaaaaaaaaaaaaa?5?a??5 =====> True\n",
        "\n",
        "mbbv???????????4??????ddsdsdcc9? ==> false"
      ],
      "metadata": {
        "id": "Rem0ymzieKni"
      }
    },
    {
      "cell_type": "markdown",
      "source": [
        "**Solution.4**"
      ],
      "metadata": {
        "id": "Bm9RL3keB5zN"
      }
    },
    {
      "cell_type": "code",
      "source": [
        "def QuestionsMarks(strParam):\n",
        "  str_list,prev_num, after_num, marks, ans, false_loop = list(strParam),\"0\",\"0\", \"\", False, False\n",
        "\n",
        "  for charecter in str_list:\n",
        "\n",
        "    if charecter.isnumeric() and marks == \"\" and prev_num != \"0\" and after_num == \"0\":\n",
        "\n",
        "      prev_num, after_num, marks = int(charecter),\"0\", \"\"\n",
        "      print(\"yes\", charecter)\n",
        "\n",
        "    elif charecter.isnumeric() and prev_num == \"0\":\n",
        "      prev_num = int(charecter)\n",
        "    \n",
        "    elif charecter ==\"?\" and prev_num != \"0\":\n",
        "      marks += \"?\"\n",
        "\n",
        "    elif charecter.isnumeric() and prev_num != \"0\" and after_num == \"0\" and false_loop != True:\n",
        "      after_num = int(charecter)\n",
        "      \n",
        "      if prev_num + after_num == 10 and marks == \"???\":\n",
        "        ans = True\n",
        "              \n",
        "      elif prev_num + after_num != 10 and marks != \"???\":\n",
        "        Has_no_effect = \"yes\"\n",
        "                \n",
        "      else:  \n",
        "        ans = False      \n",
        "        false_loop = True\n",
        "        print(\"False at:\", charecter)\n",
        "\n",
        "      prev_num, after_num, marks = int(charecter),\"0\", \"\"\n",
        "        \n",
        "    \n",
        "    if charecter == str_list[len(str_list)-1] and after_num == \"0\" and prev_num != \"0\":\n",
        "      ans = False \n",
        "      \n",
        "  # code goes here\n",
        "  return ans\n",
        "\n",
        "# keep this function call here \n",
        "print(QuestionsMarks(input()))"
      ],
      "metadata": {
        "colab": {
          "base_uri": "https://localhost:8080/"
        },
        "outputId": "48c10979-20c3-4837-d8f7-50885c3b4108",
        "id": "aRSHpXkLB5zX"
      },
      "execution_count": 56,
      "outputs": [
        {
          "output_type": "stream",
          "name": "stdout",
          "text": [
            "arrb6???4xxbl5???eee5\n",
            "yes 5\n",
            "False\n"
          ]
        }
      ]
    },
    {
      "cell_type": "markdown",
      "source": [
        "**Test cases**\n",
        "\n",
        "arrb6???4xxbl5???eee5        ======> True\n",
        "\n",
        "aa6?9                        ======> false\n",
        "\n",
        "acc?7??sss?3rr1??????5       ======> True\n",
        "\n",
        "aaaaaaarrrrr??????           ======> false\n",
        "\n",
        "9???1???9???1???9            ======> True\n",
        "\n",
        "9???1???9??1???9             ======> false\n",
        "\n",
        "4?5?4?aamm9                  ======> false\n",
        "\n",
        "5??aaaaaaaaaaaaaaaaaaa?5?5   ======> false\n",
        "\n",
        "5??aaaaaaaaaaaaaaaaaaa?5?a??5 =====> True\n",
        "\n",
        "mbbv???????????4??????ddsdsdcc9? ==> false"
      ],
      "metadata": {
        "id": "bg9avC9m9Ovv"
      }
    },
    {
      "cell_type": "markdown",
      "source": [
        "and after_num == \"0\""
      ],
      "metadata": {
        "id": "CicurhG8bonw"
      }
    },
    {
      "cell_type": "markdown",
      "source": [
        "**Solution.3**"
      ],
      "metadata": {
        "id": "TksxnN498pq3"
      }
    },
    {
      "cell_type": "code",
      "source": [
        "def QuestionsMarks(strParam):\n",
        "  str_list,prev_num, after_num, marks, ans, false_loop = list(strParam),\"0\",\"0\", \"\", False, False\n",
        "\n",
        "  for charecter in str_list:\n",
        "\n",
        "    if charecter.isnumeric() and prev_num == \"0\":\n",
        "      prev_num = int(charecter)\n",
        "    \n",
        "    elif charecter ==\"?\" and prev_num != \"0\":\n",
        "      marks += \"?\"\n",
        "\n",
        "    elif charecter.isnumeric() and prev_num != \"0\" and after_num == \"0\" and false_loop != True:\n",
        "      after_num = int(charecter)\n",
        "      \n",
        "      if prev_num + after_num == 10 and marks == \"???\":\n",
        "        ans = True\n",
        "              \n",
        "      elif prev_num + after_num != 10 and marks != \"???\":\n",
        "        Has_no_effect = \"yes\"\n",
        "                \n",
        "      else:  \n",
        "        ans = False      \n",
        "        false_loop = True\n",
        "\n",
        "      prev_num, after_num, marks = int(charecter),\"0\", \"\"\n",
        "          \n",
        "    if charecter == str_list[len(str_list)-1] and after_num == \"0\" and prev_num != \"0\":\n",
        "      ans = False \n",
        "      \n",
        "  # code goes here\n",
        "  return ans\n",
        "\n",
        "# keep this function call here \n",
        "print(QuestionsMarks(input()))"
      ],
      "metadata": {
        "id": "BqMgOjI98pq6"
      },
      "execution_count": null,
      "outputs": []
    },
    {
      "cell_type": "markdown",
      "source": [
        "**Solution.2** **Best version now**"
      ],
      "metadata": {
        "id": "M4uZT-Kkx_gD"
      }
    },
    {
      "cell_type": "code",
      "source": [
        "def QuestionsMarks(strParam):\n",
        "  str_list,prev_num, after_num, marks, ans, false_loop = list(strParam),\"0\",\"0\", \"\", False, False\n",
        "\n",
        "  for charecter in str_list:\n",
        "\n",
        "    if charecter.isnumeric() and prev_num == \"0\":\n",
        "      prev_num = int(charecter)\n",
        "    \n",
        "    elif charecter ==\"?\" and prev_num != \"0\":\n",
        "      marks += \"?\"\n",
        "\n",
        "    elif charecter.isnumeric() and prev_num != \"0\" and after_num == \"0\" and false_loop != True:\n",
        "      after_num = int(charecter)\n",
        "      \n",
        "      if prev_num + after_num == 10 and marks == \"???\":\n",
        "        ans = True\n",
        "              \n",
        "      elif prev_num + after_num != 10 and marks != \"???\":\n",
        "        Has_no_effect = \"yes\"\n",
        "                \n",
        "      else:  \n",
        "        ans = False      \n",
        "        false_loop = True\n",
        "\n",
        "      prev_num, after_num, marks = \"0\",\"0\", \"\"\n",
        "      \n",
        "  # code goes here\n",
        "  return ans\n",
        "\n",
        "# keep this function call here \n",
        "print(QuestionsMarks(input()))"
      ],
      "metadata": {
        "colab": {
          "base_uri": "https://localhost:8080/"
        },
        "outputId": "3b82b1c7-8060-43c2-deb9-b69cbfe6f0ce",
        "id": "_73yb4jPyCb6"
      },
      "execution_count": 85,
      "outputs": [
        {
          "output_type": "stream",
          "name": "stdout",
          "text": [
            "9???1???9???1???9\n",
            "True\n"
          ]
        }
      ]
    },
    {
      "cell_type": "markdown",
      "source": [
        "**Solution.1**"
      ],
      "metadata": {
        "id": "0sn5XGZgnoiO"
      }
    },
    {
      "cell_type": "code",
      "source": [
        "def QuestionsMarks(strParam):\n",
        "  str_list,prev_num, after_num, marks = list(strParam),\"0\",\"0\", \"\"\n",
        "\n",
        "  for charecter in str_list:\n",
        "    if charecter.isnumeric() and prev_num == \"0\":\n",
        "      prev_num = int(charecter)\n",
        "      \n",
        "    elif charecter ==\"?\" and marks != \"???\" and prev_num != \"0\":\n",
        "      marks += \"?\"\n",
        "      \n",
        "    elif charecter.isnumeric() and prev_num != \"0\" and marks == \"???\" and after_num == \"0\":\n",
        "      after_num = int(charecter)\n",
        "\n",
        "      if prev_num + after_num == 10:\n",
        "        ans = True\n",
        "        str_list = [\"x\"]\n",
        "       \n",
        "      else:\n",
        "        ans = False\n",
        "       \n",
        "    elif charecter.isnumeric() and prev_num != \"0\" and marks != \"???\":\n",
        "      ans = False\n",
        "\n",
        "    elif charecter ==\"?\" and marks == \"???\" and prev_num != \"0\":\n",
        "      ans = False\n",
        "    \n",
        "    else:\n",
        "      ans = False\n",
        "\n",
        "\n",
        "  \n",
        "  # code goes here\n",
        "  return ans\n",
        "\n",
        "# keep this function call here \n",
        "print(QuestionsMarks(input()))"
      ],
      "metadata": {
        "id": "kfa55IV-nmM3",
        "colab": {
          "base_uri": "https://localhost:8080/"
        },
        "outputId": "b3ff04e9-17ca-477f-c7cc-0b1005f8e024"
      },
      "execution_count": 24,
      "outputs": [
        {
          "output_type": "stream",
          "name": "stdout",
          "text": [
            "\"aa6?9\"\n",
            "False\n"
          ]
        }
      ]
    }
  ]
}