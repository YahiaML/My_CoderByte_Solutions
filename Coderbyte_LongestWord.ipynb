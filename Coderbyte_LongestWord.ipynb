{
  "nbformat": 4,
  "nbformat_minor": 0,
  "metadata": {
    "colab": {
      "name": "Coderbyte_LongestWord.ipynb",
      "provenance": [],
      "authorship_tag": "ABX9TyMV08NZ5uapAshEnH66owaN",
      "include_colab_link": true
    },
    "kernelspec": {
      "name": "python3",
      "display_name": "Python 3"
    },
    "language_info": {
      "name": "python"
    }
  },
  "cells": [
    {
      "cell_type": "markdown",
      "metadata": {
        "id": "view-in-github",
        "colab_type": "text"
      },
      "source": [
        "<a href=\"https://colab.research.google.com/github/YahiaML/My_CoderByte_Solutions/blob/main/Coderbyte_LongestWord.ipynb\" target=\"_parent\"><img src=\"https://colab.research.google.com/assets/colab-badge.svg\" alt=\"Open In Colab\"/></a>"
      ]
    },
    {
      "cell_type": "markdown",
      "source": [
        "**Problem Description**\n",
        "\n",
        "Have the function FirstFactorial(num) take the num parameter being passed and return the factorial of it. For example: if num = 4, then your program should return (4 * 3 * 2 * 1) = 24. For the test cases, the range will be between 1 and 18 and the input will always be an integer."
      ],
      "metadata": {
        "id": "dc_cfYswdnWi"
      }
    },
    {
      "cell_type": "markdown",
      "source": [
        "**Solution**"
      ],
      "metadata": {
        "id": "aIk3T4Bvd1ba"
      }
    },
    {
      "cell_type": "code",
      "execution_count": null,
      "metadata": {
        "id": "6HhrXc4TdbX1"
      },
      "outputs": [],
      "source": [
        "def LongestWord(sen):\n",
        "\n",
        "  # code goes here\n",
        "  return max(sen.split())\n",
        "\n",
        "# keep this function call here \n",
        "print(LongestWord(input()))"
      ]
    }
  ]
}