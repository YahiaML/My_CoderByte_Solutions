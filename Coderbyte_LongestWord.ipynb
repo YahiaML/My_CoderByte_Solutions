{
  "nbformat": 4,
  "nbformat_minor": 0,
  "metadata": {
    "colab": {
      "name": "Coderbyte_LongestWord.ipynb",
      "provenance": [],
      "authorship_tag": "ABX9TyMhWo368RwhdufisxVnXx90"
    },
    "kernelspec": {
      "name": "python3",
      "display_name": "Python 3"
    },
    "language_info": {
      "name": "python"
    }
  },
  "cells": [
    {
      "cell_type": "markdown",
      "source": [
        "**Problem Description**\n",
        "\n",
        "Have the function LongestWord(sen) take the sen parameter being passed and return the longest word in the string. If there are two or more words that are the same length, return the first word from the string with that length. Ignore punctuation and assume sen will not be empty. Words may also contain numbers, for example \"Hello world123 567\""
      ],
      "metadata": {
        "id": "dc_cfYswdnWi"
      }
    },
    {
      "cell_type": "markdown",
      "source": [
        "**Solution**"
      ],
      "metadata": {
        "id": "aIk3T4Bvd1ba"
      }
    },
    {
      "cell_type": "code",
      "execution_count": null,
      "metadata": {
        "id": "6HhrXc4TdbX1"
      },
      "outputs": [],
      "source": [
        "exclude = [\"!\",'&','^','/','\"', '#', '$', '%', \"'\", '(', ')', '*', '+', ',', '-', '.', ':', ';', '<', '=', '>', '?', '@', '[', '\\\\', ']',  '_', '`', '{', '|', '}', '~']\n",
        "\n",
        "def LongestWord(sen):\n",
        "    # code goes here\n",
        "  res= max(sen.split(),key = len)\n",
        "  for ch in exclude:\n",
        "    if ch in res:\n",
        "      sen = sen.replace(res,\"\")\n",
        "      res= max(sen.split(),key = len)    \n",
        "  \n",
        "  return res     \n",
        "\n",
        "\n",
        "# keep this function call here \n",
        "print(LongestWord(input()))"
      ]
    }
  ]
}