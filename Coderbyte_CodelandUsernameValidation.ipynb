{
  "nbformat": 4,
  "nbformat_minor": 0,
  "metadata": {
    "colab": {
      "name": "Coderbyte_CodelandUsernameValidation.ipynb",
      "provenance": [],
      "collapsed_sections": [],
      "authorship_tag": "ABX9TyNfr0QXCxBC3l0CU0KeFOX6"
    },
    "kernelspec": {
      "name": "python3",
      "display_name": "Python 3"
    },
    "language_info": {
      "name": "python"
    }
  },
  "cells": [
    {
      "cell_type": "markdown",
      "source": [
        "**Problem Description**\n",
        "\n",
        "Have the function CodelandUsernameValidation(str) take the str parameter being passed and determine if the string is a valid username according to the following rules:\n",
        "\n",
        "1. The username is between 4 and 25 characters.\n",
        "2. It must start with a letter.\n",
        "3. It can only contain letters, numbers, and the underscore character.\n",
        "4. It cannot end with an underscore character.\n",
        "\n",
        "If the username is valid then your program should return the string true, otherwise return the string false.\n",
        "Examples\n",
        "Input: \"aa_\"\n",
        "Output: false\n",
        "Input: \"u__hello_world123\"\n",
        "Output: true"
      ],
      "metadata": {
        "id": "dc_cfYswdnWi"
      }
    },
    {
      "cell_type": "markdown",
      "source": [
        "**Solution**\n"
      ],
      "metadata": {
        "id": "WIy_BXZVEdfT"
      }
    },
    {
      "cell_type": "code",
      "source": [
        "def CodelandUsernameValidation(strParam):\n",
        "\n",
        "  # code goes here\n",
        "  ans = \"false\"\n",
        "  \n",
        "  if 3 < len(strParam) < 26 and strParam[0].isalpha() and strParam[-1] !=\"_\":\n",
        "    ans = \"true\" \n",
        "    \n",
        "    for charecter in strParam:\n",
        "\n",
        "      if charecter.isalpha() != True and charecter.isnumeric() != True and charecter != \"_\":\n",
        "        \n",
        "        ans = \"false\"\n",
        "        \n",
        "\n",
        "  return ans\n",
        "\n",
        "# keep this function call here \n",
        "print(CodelandUsernameValidation(input()))"
      ],
      "metadata": {
        "id": "aFRt4LVwEaG9"
      },
      "execution_count": null,
      "outputs": []
    }
  ]
}