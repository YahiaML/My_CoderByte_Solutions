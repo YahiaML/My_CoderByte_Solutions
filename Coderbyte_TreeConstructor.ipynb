{
  "nbformat": 4,
  "nbformat_minor": 0,
  "metadata": {
    "colab": {
      "name": "Coderbyte_TreeConstructor.ipynb",
      "provenance": [],
      "collapsed_sections": [],
      "authorship_tag": "ABX9TyOqrF+pQ61NtFZ9GLzyJp5x"
    },
    "kernelspec": {
      "name": "python3",
      "display_name": "Python 3"
    },
    "language_info": {
      "name": "python"
    }
  },
  "cells": [
    {
      "cell_type": "markdown",
      "source": [
        "**Problem Description**\n",
        "\n",
        "Have the function TreeConstructor(strArr) take the array of strings stored in strArr, which will contain pairs of integers in the following format: (i1,i2), where i1 represents a child node in a tree and the second integer i2 signifies that it is the parent of i1. For example: if strArr is [\"(1,2)\", \"(2,4)\", \"(7,2)\"], then this forms the following tree:\n",
        "\n",
        "\n",
        "![NMRdSO1.png](data:image/png;base64,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)\n",
        "\n",
        "\n",
        "which you can see forms a proper binary tree. Your program should, in this case, return the string true because a valid binary tree can be formed. If a proper binary tree cannot be formed with the integer pairs, then return the string false. All of the integers within the tree will be unique, which means there can only be one node in the tree with the given integer value."
      ],
      "metadata": {
        "id": "dc_cfYswdnWi"
      }
    },
    {
      "cell_type": "markdown",
      "source": [
        "**Solution**\n",
        "\n"
      ],
      "metadata": {
        "id": "no9SlzTIZVmx"
      }
    },
    {
      "cell_type": "code",
      "source": [
        "from collections import Counter\n",
        "\n",
        "def TreeConstructor(strArr):  \n",
        "  parent, child, child_turn,finish = {}, {}, True, False\n",
        "\n",
        "  for i_1 in range(len(strArr)):\n",
        "\n",
        "    str_tuple = strArr[i_1]\n",
        "    for i_2 in str_tuple:\n",
        "\n",
        "      if i_2.isnumeric() and child_turn == True:\n",
        "        child[i_1] = i_2\n",
        "        child_turn = False\n",
        "\n",
        "      elif i_2.isnumeric() and child_turn == False:\n",
        "        parent[i_1] = i_2\n",
        "        child_turn = True\n",
        "  \n",
        "  parents_count = Counter(parent.values())\n",
        "\n",
        "  for counted in parents_count.values():\n",
        "    if counted < 3 and finish != False:\n",
        "      ans = \"true\"\n",
        "    else:\n",
        "      ans = \"false\"\n",
        "      finish = True\n",
        "  print(parents_count)\n",
        "\n",
        "    \n",
        "\n",
        "\n",
        "\n",
        "  # code goes here\n",
        "  return ans\n",
        "\n",
        "# keep this function call here \n",
        "print(TreeConstructor([\"(1,2)\", \"(3,2)\", \"(2,12)\", \"(5,2)\"]))"
      ],
      "metadata": {
        "colab": {
          "base_uri": "https://localhost:8080/"
        },
        "id": "w7XtyoGixhRy",
        "outputId": "f9f2077b-ab02-469b-d7c8-0a3345efcebe"
      },
      "execution_count": null,
      "outputs": [
        {
          "output_type": "stream",
          "name": "stdout",
          "text": [
            "Counter({'2': 2, '1': 1, '5': 1})\n",
            "true\n"
          ]
        }
      ]
    },
    {
      "cell_type": "code",
      "source": [
        "from collections import Counter\n",
        "\n",
        "\n",
        "x = {0: '2', 1: '4', 2: '7', 3: '2', 4: '5'}\n",
        "y = {0: '1', 1: '2', 2: '5', 3: '7', 4: '9'}\n",
        "\n",
        "Counter(x.values())\n",
        "\n"
      ],
      "metadata": {
        "colab": {
          "base_uri": "https://localhost:8080/"
        },
        "id": "Knt-AoVvuv5n",
        "outputId": "6ff9d04a-a415-4b49-f972-8fcdb86369b7"
      },
      "execution_count": null,
      "outputs": [
        {
          "output_type": "execute_result",
          "data": {
            "text/plain": [
              "Counter({'2': 2, '4': 1, '5': 1, '7': 1})"
            ]
          },
          "metadata": {},
          "execution_count": 28
        }
      ]
    },
    {
      "cell_type": "code",
      "source": [
        "\"\"\"\n",
        "for y_2 in y.values():\n",
        "  if y_2 in x.values():\n",
        "    print(y_2)\"\"\""
      ],
      "metadata": {
        "id": "8Xn7jNoy2KJB"
      },
      "execution_count": null,
      "outputs": []
    },
    {
      "cell_type": "code",
      "source": [
        "def TreeConstructor(strArr):\n",
        "  parent,left,right,child = [],[],[], True\n",
        "\n",
        "  for i in range(len(strArr)):\n",
        "    str_tuple = strArr[i]\n",
        "    for i in str_tuple:\n",
        "\n",
        "      if i.isnumeric() and child == True:\n",
        "         \n",
        "\n",
        "  # code goes here\n",
        "  return strArr\n",
        "\n",
        "# keep this function call here \n",
        "print(TreeConstructor(input()))"
      ],
      "metadata": {
        "id": "kFJa397GQToS"
      },
      "execution_count": null,
      "outputs": []
    },
    {
      "cell_type": "code",
      "source": [
        ""
      ],
      "metadata": {
        "id": "2rrL-wAfuzIF"
      },
      "execution_count": null,
      "outputs": []
    }
  ]
}