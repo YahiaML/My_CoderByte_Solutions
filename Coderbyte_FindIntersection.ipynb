{
  "nbformat": 4,
  "nbformat_minor": 0,
  "metadata": {
    "colab": {
      "name": "Coderbyte_FindIntersection.ipynb",
      "provenance": [],
      "collapsed_sections": [],
      "authorship_tag": "ABX9TyPNXZSTamqYk+bVyeJmocFF",
      "include_colab_link": true
    },
    "kernelspec": {
      "name": "python3",
      "display_name": "Python 3"
    },
    "language_info": {
      "name": "python"
    }
  },
  "cells": [
    {
      "cell_type": "markdown",
      "metadata": {
        "id": "view-in-github",
        "colab_type": "text"
      },
      "source": [
        "<a href=\"https://colab.research.google.com/github/YahiaML/My_CoderByte_Solutions/blob/main/Coderbyte_FindIntersection.ipynb\" target=\"_parent\"><img src=\"https://colab.research.google.com/assets/colab-badge.svg\" alt=\"Open In Colab\"/></a>"
      ]
    },
    {
      "cell_type": "markdown",
      "source": [
        "**Problem Description**\n",
        "\n",
        "Have the function FindIntersection(strArr) read the array of strings stored in strArr which will contain 2 elements: the first element will represent a list of comma-separated numbers sorted in ascending order, the second element will represent a second list of comma-separated numbers (also sorted). Your goal is to return a comma-separated string containing the numbers that occur in elements of strArr in sorted order. If there is no intersection, return the string false."
      ],
      "metadata": {
        "id": "dc_cfYswdnWi"
      }
    },
    {
      "cell_type": "markdown",
      "source": [
        "**Solution**"
      ],
      "metadata": {
        "id": "WIy_BXZVEdfT"
      }
    },
    {
      "cell_type": "code",
      "source": [
        "def FindIntersection(strArr):\n",
        "  # code goes here\n",
        "  strArr = list(strArr)\n",
        "  l_1, l_2, no_intersection, ans = strArr[0].replace(\",\", \"\"), strArr[1].replace(\",\", \"\"), True, []\n",
        "  l1_splitted, l2_splitted = l_1.split(), l_2.split()\n",
        "  \n",
        "\n",
        "  for num in l1_splitted:\n",
        "\n",
        "    if num in l2_splitted:\n",
        "      no_intersection = False      \n",
        "      ans.append(int(num))\n",
        "\n",
        "  if no_intersection == True:\n",
        "      return \"false\"\n",
        "  else:    \n",
        "    ans_str = str(ans)[1:-1] \n",
        "    return ans_str\n",
        "\n",
        "# keep this function call here \n",
        "print(FindIntersection(input()))"
      ],
      "metadata": {
        "id": "aFRt4LVwEaG9",
        "colab": {
          "base_uri": "https://localhost:8080/"
        },
        "outputId": "409bead3-81d0-460a-8c1e-b2c2d7097eac"
      },
      "execution_count": 68,
      "outputs": [
        {
          "output_type": "stream",
          "name": "stdout",
          "text": [
            "[\"1, 3, 4, 7, 13\", \"1, 2, 4, 13, 15\"]\n",
            "false\n"
          ]
        }
      ]
    },
    {
      "cell_type": "code",
      "source": [
        "def FindIntersection(strArr):\n",
        "  # code goes here  \n",
        "  l_1, l_2, no_intersection, ans, strArr = [], [], True, [], strArr.replace('\",', \"|\")\n",
        "\n",
        "  for i in [\"[\", \"]\", \",\", '\"']:\n",
        "      strArr = strArr.replace(i, \"\")\n",
        "\n",
        "  strArr = strArr.split()\n",
        "  l_2_gate = False\n",
        "  for i in strArr:\n",
        "\n",
        "    if l_2_gate == True:\n",
        "      l_2.append(i)\n",
        "\n",
        "    elif \"|\" in i:\n",
        "      l_2_gate = True\n",
        "      i = i.replace(\"|\",\"\")\n",
        "      l_1.append(i)\n",
        "\n",
        "    elif l_2_gate == False:\n",
        "      l_1.append(i)  \n",
        "\n",
        "  for num in l_1:\n",
        "    if num in l_2:\n",
        "      no_intersection = False      \n",
        "      ans.append(int(num))\n",
        "      \n",
        "\n",
        "  if no_intersection == True:\n",
        "    return \"false\"\n",
        "  else:\n",
        "    ans_str = str(ans)[1:-1] \n",
        "    return ans_str\n",
        "    #return print(*ans, sep = \", \")\n",
        "    \n",
        "\n",
        "\n",
        "# keep this function call here \n",
        "print(FindIntersection(input()))"
      ],
      "metadata": {
        "colab": {
          "base_uri": "https://localhost:8080/"
        },
        "outputId": "6e202209-a65f-46dc-d1fe-b364d6734c5f",
        "id": "EkQI2H3ze20f"
      },
      "execution_count": 67,
      "outputs": [
        {
          "output_type": "stream",
          "name": "stdout",
          "text": [
            "[\"1, 3, 4, 7, 13\", \"1, 2, 4, 13, 15\"]\n",
            "1, 4, 13\n"
          ]
        }
      ]
    },
    {
      "cell_type": "code",
      "source": [
        "\"\"\"l = [\"1, 3, 4, 7, 13\", \"1, 2, 4, 13, 15\"]\n",
        "l_1, l_2, = l[0].replace(\",\", \"\"), l[1].replace(\",\", \"\")\n",
        "l1_splitted, l2_splitted = l_1.split(), l_2.split()\n",
        " \n",
        "for num in l1_splitted:\n",
        "   if num in l2_splitted:\n",
        "     \"\"\""
      ],
      "metadata": {
        "colab": {
          "base_uri": "https://localhost:8080/"
        },
        "id": "ZgRNjLxUMbAK",
        "outputId": "37eb21eb-d04f-4500-bfa4-4c72b09e00af"
      },
      "execution_count": 9,
      "outputs": [
        {
          "output_type": "execute_result",
          "data": {
            "text/plain": [
              "(['1', '3', '4', '7', '13'], ['1', '2', '4', '13', '15'])"
            ]
          },
          "metadata": {},
          "execution_count": 9
        }
      ]
    },
    {
      "cell_type": "code",
      "source": [
        "x = '[\"1, 3, 4, 7, 13\", \"1, 2, 4, 13, 15\"]'\n",
        "l_1, l_2, no_intersection = [], [], True\n",
        "\n",
        "x = x.replace('\",', \"|\")\n",
        "\n",
        "for i in [\"[\", \"]\", \",\", '\"']:\n",
        "    x = x.replace(i, \"\")\n",
        "\n",
        "x = x.split()\n",
        "l_2_gate = False\n",
        "for i in x:\n",
        "\n",
        "  if l_2_gate == True:\n",
        "    l_2.append(i)\n",
        "\n",
        "  elif \"|\" in i:\n",
        "    l_2_gate = True\n",
        "    i = i.replace(\"|\",\"\")\n",
        "    l_1.append(i)\n",
        "\n",
        "  elif l_2_gate == False:\n",
        "    l_1.append(i)\n",
        "\n",
        "print(l_1, \"       .\", l_2)\n",
        "\n",
        "for num in l_1:\n",
        "  if num in l_2:\n",
        "    no_intersection = False      \n",
        "    print(num)\n",
        "\n",
        "if no_intersection == True:\n",
        "    print(\"false\")\n",
        "\n",
        "\n"
      ],
      "metadata": {
        "colab": {
          "base_uri": "https://localhost:8080/"
        },
        "id": "n8Ablwc7Z5Ix",
        "outputId": "f41a6330-7570-402e-ea7a-fb198b97f63a"
      },
      "execution_count": 44,
      "outputs": [
        {
          "output_type": "stream",
          "name": "stdout",
          "text": [
            "['1', '3', '4', '7', '13']        . ['1', '2', '4', '13', '15']\n",
            "1\n",
            "4\n",
            "13\n"
          ]
        }
      ]
    },
    {
      "cell_type": "code",
      "source": [
        "ans = \"\"\n",
        "ans += \"1\"\n",
        "ans += \",\"\n",
        "ans"
      ],
      "metadata": {
        "colab": {
          "base_uri": "https://localhost:8080/",
          "height": 35
        },
        "id": "QHEHgn03gzy0",
        "outputId": "0e5ab87a-76c0-4db3-e06a-8bec92569726"
      },
      "execution_count": 55,
      "outputs": [
        {
          "output_type": "execute_result",
          "data": {
            "text/plain": [
              "'1,'"
            ],
            "application/vnd.google.colaboratory.intrinsic+json": {
              "type": "string"
            }
          },
          "metadata": {},
          "execution_count": 55
        }
      ]
    }
  ]
}