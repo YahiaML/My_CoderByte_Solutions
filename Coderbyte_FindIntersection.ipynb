{
  "nbformat": 4,
  "nbformat_minor": 0,
  "metadata": {
    "colab": {
      "name": "Coderbyte_FindIntersection.ipynb",
      "provenance": [],
      "collapsed_sections": [],
      "authorship_tag": "ABX9TyPVoMLz0bfdRNvgDgJ5cCwS"
    },
    "kernelspec": {
      "name": "python3",
      "display_name": "Python 3"
    },
    "language_info": {
      "name": "python"
    }
  },
  "cells": [
    {
      "cell_type": "markdown",
      "source": [
        "**Problem Description**\n",
        "\n",
        "Have the function FindIntersection(strArr) read the array of strings stored in strArr which will contain 2 elements: the first element will represent a list of comma-separated numbers sorted in ascending order, the second element will represent a second list of comma-separated numbers (also sorted). Your goal is to return a comma-separated string containing the numbers that occur in elements of strArr in sorted order. If there is no intersection, return the string false."
      ],
      "metadata": {
        "id": "dc_cfYswdnWi"
      }
    },
    {
      "cell_type": "markdown",
      "source": [
        "**Solution.1**\n",
        "\n",
        "* Was accepted by the websites"
      ],
      "metadata": {
        "id": "WIy_BXZVEdfT"
      }
    },
    {
      "cell_type": "code",
      "source": [
        "def FindIntersection(strArr):\n",
        "  # code goes here\n",
        "  strArr = list(strArr)\n",
        "  l_1, l_2, no_intersection, ans = strArr[0].replace(\",\", \"\"), strArr[1].replace(\",\", \"\"), True, []\n",
        "  l1_splitted, l2_splitted = l_1.split(), l_2.split()\n",
        "  \n",
        "\n",
        "  for num in l1_splitted:\n",
        "\n",
        "    if num in l2_splitted:\n",
        "      no_intersection = False      \n",
        "      ans.append(int(num))\n",
        "\n",
        "  if no_intersection == True:\n",
        "      return \"false\"\n",
        "  else:    \n",
        "    ans_str = str(ans)[1:-1]\n",
        "    ans_str = ans_str.replace(\" \", \"\") \n",
        "    return ans_str\n",
        "\n",
        "# keep this function call here \n",
        "print(FindIntersection(input()))"
      ],
      "metadata": {
        "id": "aFRt4LVwEaG9"
      },
      "execution_count": null,
      "outputs": []
    },
    {
      "cell_type": "markdown",
      "source": [
        "**Solution.2**\n",
        "\n",
        "* Can accept the following format\n",
        "```\n",
        "[\"1, 3, 4, 7, 13\", \"1, 2, 4, 13, 15\"]\n",
        "```\n",
        "\n"
      ],
      "metadata": {
        "id": "Y-1lwoGXnUXP"
      }
    },
    {
      "cell_type": "code",
      "source": [
        "def FindIntersection(strArr):\n",
        "  # code goes here  \n",
        "  l_1, l_2, no_intersection, ans, strArr = [], [], True, [], strArr.replace('\",', \"|\")\n",
        "\n",
        "  for i in [\"[\", \"]\", \",\", '\"']:\n",
        "      strArr = strArr.replace(i, \"\")\n",
        "\n",
        "  strArr = strArr.split()\n",
        "  l_2_gate = False\n",
        "  for i in strArr:\n",
        "\n",
        "    if l_2_gate == True:\n",
        "      l_2.append(i)\n",
        "\n",
        "    elif \"|\" in i:\n",
        "      l_2_gate = True\n",
        "      i = i.replace(\"|\",\"\")\n",
        "      l_1.append(i)\n",
        "\n",
        "    elif l_2_gate == False:\n",
        "      l_1.append(i)  \n",
        "\n",
        "  for num in l_1:\n",
        "    if num in l_2:\n",
        "      no_intersection = False      \n",
        "      ans.append(int(num))\n",
        "      \n",
        "\n",
        "  if no_intersection == True:\n",
        "    return \"false\"\n",
        "  else:\n",
        "    ans_str = str(ans)[1:-1] \n",
        "    return ans_str\n",
        "    #return print(*ans, sep = \", \")\n",
        "    \n",
        "\n",
        "\n",
        "# keep this function call here \n",
        "print(FindIntersection(input()))"
      ],
      "metadata": {
        "id": "EkQI2H3ze20f"
      },
      "execution_count": null,
      "outputs": []
    }
  ]
}